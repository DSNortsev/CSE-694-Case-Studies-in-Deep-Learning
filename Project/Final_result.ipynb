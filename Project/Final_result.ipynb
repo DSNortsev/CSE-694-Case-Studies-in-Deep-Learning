{
  "nbformat": 4,
  "nbformat_minor": 0,
  "metadata": {
    "kernelspec": {
      "display_name": "Python 3",
      "language": "python",
      "name": "python3"
    },
    "language_info": {
      "codemirror_mode": {
        "name": "ipython",
        "version": 3
      },
      "file_extension": ".py",
      "mimetype": "text/x-python",
      "name": "python",
      "nbconvert_exporter": "python",
      "pygments_lexer": "ipython3",
      "version": "3.7.5"
    },
    "colab": {
      "name": "Final_result.ipynb",
      "provenance": [],
      "include_colab_link": true
    }
  },
  "cells": [
    {
      "cell_type": "markdown",
      "metadata": {
        "id": "view-in-github",
        "colab_type": "text"
      },
      "source": [
        "<a href=\"https://colab.research.google.com/github/DSNortsev/CSE-694-Case-Studies-in-Deep-Learning/blob/master/Project/Final_result.ipynb\" target=\"_parent\"><img src=\"https://colab.research.google.com/assets/colab-badge.svg\" alt=\"Open In Colab\"/></a>"
      ]
    },
    {
      "cell_type": "code",
      "metadata": {
        "id": "2jkny96V07BN"
      },
      "source": [
        "from sklearn.metrics import accuracy_score,confusion_matrix,f1_score,recall_score,precision_score\n",
        "import matplotlib.pyplot as plt\n",
        "import seaborn as sns\n",
        "import pandas as pd"
      ],
      "execution_count": 97,
      "outputs": []
    },
    {
      "cell_type": "markdown",
      "metadata": {
        "id": "lF4wctg1DReG"
      },
      "source": [
        "Plot histogram based on output value in train dataset"
      ]
    },
    {
      "cell_type": "code",
      "metadata": {
        "id": "bRObrne97oBd",
        "outputId": "15e2b054-018a-4462-8042-3503d01341f4",
        "colab": {
          "base_uri": "https://localhost:8080/",
          "height": 352
        }
      },
      "source": [
        "train_data = pd.read_csv(\"Research_data_train.csv\")['output']\n",
        "print('Total number of negative and positive cases: ',train_data.value_counts(), sep='\\n')\n",
        "train_data.plot.hist()"
      ],
      "execution_count": 79,
      "outputs": [
        {
          "output_type": "stream",
          "text": [
            "Total number of negative and positive cases: \n",
            "0.0    30074\n",
            "1.0     3922\n",
            "Name: output, dtype: int64\n"
          ],
          "name": "stdout"
        },
        {
          "output_type": "execute_result",
          "data": {
            "text/plain": [
              "<matplotlib.axes._subplots.AxesSubplot at 0x7f671b266eb8>"
            ]
          },
          "metadata": {
            "tags": []
          },
          "execution_count": 79
        },
        {
          "output_type": "display_data",
          "data": {
            "image/png": "[encoded data removed]",
            "text/plain": [
              "<Figure size 432x288 with 1 Axes>"
            ]
          },
          "metadata": {
            "tags": [],
            "needs_background": "light"
          }
        }
      ]
    },
    {
      "cell_type": "markdown",
      "metadata": {
        "id": "Y1xy5ZWJD6jV"
      },
      "source": [
        "Plot histogram based on output value in predicted dataset"
      ]
    },
    {
      "cell_type": "code",
      "metadata": {
        "id": "F3jbIYyu1T9-",
        "outputId": "6def75a1-ac6f-4306-8020-b58f4c8c5f19",
        "colab": {
          "base_uri": "https://localhost:8080/",
          "height": 352
        }
      },
      "source": [
        "predicted_targets = pd.read_csv(\"final_result_Dmitry_Nortsev.csv\")['output']\n",
        "print('Total number of negative and positive cases: ', predicted_targets.value_counts(), sep='\\n')\n",
        "predicted_targets.plot.hist()"
      ],
      "execution_count": 80,
      "outputs": [
        {
          "output_type": "stream",
          "text": [
            "Total number of negative and positive cases: \n",
            "0    21560\n",
            "1     4188\n",
            "Name: output, dtype: int64\n"
          ],
          "name": "stdout"
        },
        {
          "output_type": "execute_result",
          "data": {
            "text/plain": [
              "<matplotlib.axes._subplots.AxesSubplot at 0x7f671b1e78d0>"
            ]
          },
          "metadata": {
            "tags": []
          },
          "execution_count": 80
        },
        {
          "output_type": "display_data",
          "data": {
            "image/png": "[encoded data removed]",
            "text/plain": [
              "<Figure size 432x288 with 1 Axes>"
            ]
          },
          "metadata": {
            "tags": [],
            "needs_background": "light"
          }
        }
      ]
    },
    {
      "cell_type": "markdown",
      "metadata": {
        "id": "AUOStglcEDUa"
      },
      "source": [
        "Plot histogram based on output value in actual output dataset"
      ]
    },
    {
      "cell_type": "code",
      "metadata": {
        "id": "1sknkmdz1a0v",
        "outputId": "7a917f23-a388-47e9-9ba5-19381b8a89e3",
        "colab": {
          "base_uri": "https://localhost:8080/",
          "height": 352
        }
      },
      "source": [
        "true_targets = pd.read_csv(\"Research_data_test_output.csv\")['output']\n",
        "print('Total number of negative and positive cases: ', true_targets.value_counts(), sep='\\n')\n",
        "true_targets.plot.hist()"
      ],
      "execution_count": 96,
      "outputs": [
        {
          "output_type": "stream",
          "text": [
            "Total number of negative and positive cases: \n",
            "1    12874\n",
            "0    12874\n",
            "Name: output, dtype: int64\n"
          ],
          "name": "stdout"
        },
        {
          "output_type": "execute_result",
          "data": {
            "text/plain": [
              "<matplotlib.axes._subplots.AxesSubplot at 0x7f671ae73400>"
            ]
          },
          "metadata": {
            "tags": []
          },
          "execution_count": 96
        },
        {
          "output_type": "display_data",
          "data": {
            "image/png": "[encoded data removed]",
            "text/plain": [
              "<Figure size 432x288 with 1 Axes>"
            ]
          },
          "metadata": {
            "tags": [],
            "needs_background": "light"
          }
        }
      ]
    },
    {
      "cell_type": "markdown",
      "metadata": {
        "id": "WmcOJzEsEOE3"
      },
      "source": [
        "From the plot above, we can see that total number of positive and negative cases are both equal to 12874 rows."
      ]
    },
    {
      "cell_type": "code",
      "metadata": {
        "id": "D5i6IZpB7g9V",
        "outputId": "aad5e751-de47-4b4d-b7de-05157f0876ef",
        "colab": {
          "base_uri": "https://localhost:8080/",
          "height": 282
        }
      },
      "source": [
        "cm_2 = confusion_matrix(true_targets,predicted_targets)\n",
        "sns.heatmap(cm_2,annot=True,fmt=\"d\")"
      ],
      "execution_count": 91,
      "outputs": [
        {
          "output_type": "execute_result",
          "data": {
            "text/plain": [
              "<matplotlib.axes._subplots.AxesSubplot at 0x7f671aedcba8>"
            ]
          },
          "metadata": {
            "tags": []
          },
          "execution_count": 91
        },
        {
          "output_type": "display_data",
          "data": {
            "image/png": "[encoded data removed]",
            "text/plain": [
              "<Figure size 432x288 with 2 Axes>"
            ]
          },
          "metadata": {
            "tags": [],
            "needs_background": "light"
          }
        }
      ]
    },
    {
      "cell_type": "markdown",
      "metadata": {
        "id": "yOhauoYaPQoF"
      },
      "source": [
        "**Accuracy** is the percentage of examples correctly classified >\n",
        "$ \\frac{true\\ samples}{total\\ samles} $"
      ]
    },
    {
      "cell_type": "code",
      "metadata": {
        "id": "JMZ7N9tDG6WJ",
        "outputId": "53e14be6-02b4-4f59-961f-fe2a17b7f5c2",
        "colab": {
          "base_uri": "https://localhost:8080/"
        }
      },
      "source": [
        "from sklearn.metrics import accuracy_score\n",
        "print(f'Accuracy of the model: {accuracy_score(true_targets, predicted_targets):.3f}')"
      ],
      "execution_count": 95,
      "outputs": [
        {
          "output_type": "stream",
          "text": [
            "Accuracy of the model: 0.504\n"
          ],
          "name": "stdout"
        }
      ]
    },
    {
      "cell_type": "markdown",
      "metadata": {
        "id": "sFCNndUBJT5H"
      },
      "source": [
        "From the confusion matrix above, we can see that our model did not perform well to predict positive cases. One of the main problem is that the model was trained on a data where only 11.5% of cases were negative and 88% are positives. The data was imbalanced, but for test data there are even number of postive and negative cases. \n",
        "\n",
        "\n"
      ]
    },
    {
      "cell_type": "markdown",
      "metadata": {
        "id": "jEwYCC5HQ56V"
      },
      "source": [
        "**Precision** is the percentage of predicted positives that were correctly classified > $ \\frac{true\\ positive}{true\\ positive\\ +\\ false\\ positive} $"
      ]
    },
    {
      "cell_type": "code",
      "metadata": {
        "id": "vwGrpaJTKPrL",
        "outputId": "9b008d7c-b1a1-4a5b-8d2f-fee17d929e33",
        "colab": {
          "base_uri": "https://localhost:8080/"
        }
      },
      "source": [
        "precision = precision_score(true_targets, predicted_targets, labels=[0,1], average='micro')\n",
        "print(f'Precision: {precision:.3f}')"
      ],
      "execution_count": 104,
      "outputs": [
        {
          "output_type": "stream",
          "text": [
            "Precision: 0.504\n"
          ],
          "name": "stdout"
        }
      ]
    },
    {
      "cell_type": "markdown",
      "metadata": {
        "id": "otQDAs1QNPDQ"
      },
      "source": [
        "**Recall** is the percentage of actual positives that were correctly classified > $ \\frac{true\\ positive}{true\\ positive\\ +\\ false\\ negative} $"
      ]
    },
    {
      "cell_type": "code",
      "metadata": {
        "id": "3VFJB-3KL-7R",
        "outputId": "e899ba33-a380-456d-e29d-0f6d1b6ee3e6",
        "colab": {
          "base_uri": "https://localhost:8080/"
        }
      },
      "source": [
        "recall = recall_score(true_targets, predicted_targets, average='binary')\n",
        "print(f'Recall: {recall:.3f}')"
      ],
      "execution_count": 107,
      "outputs": [
        {
          "output_type": "stream",
          "text": [
            "Recall: 0.166\n"
          ],
          "name": "stdout"
        }
      ]
    },
    {
      "cell_type": "markdown",
      "metadata": {
        "id": "spU6yVW5NqD0"
      },
      "source": [
        "Maximizing precision will minimize the number false positives, whereas maximizing the recall will minimize the number of false negatives.\n",
        "\n",
        "**Precision:** Appropriate when minimizing false positives is the focus.\n",
        "<br>\n",
        "**Recall:** Appropriate when minimizing false negatives is the focus.\n",
        "\n",
        "From the recall value, we can observe that our model did not handle well  postive cases.|\n"
      ]
    },
    {
      "cell_type": "markdown",
      "metadata": {
        "id": "qRgRA6oDOYjz"
      },
      "source": [
        "**F-Measure** provides a way to combine both precision and recall into a single measure that captures both properties.\n",
        "\n",
        "Alone, neither precision or recall tells the whole story. We can have excellent precision with terrible recall, or alternately, terrible precision with excellent recall. F-measure provides a way to express both concerns with a single score.\n",
        "\n",
        "$ F-score = \\frac{2\\ *\\ Precision\\ *\\ Recall}{Precision\\ +\\ Recall} $\n"
      ]
    },
    {
      "cell_type": "code",
      "metadata": {
        "id": "Kj3Ryoo-Mi7R",
        "outputId": "1191c66e-4643-421f-b530-9e472d4ad20a",
        "colab": {
          "base_uri": "https://localhost:8080/"
        }
      },
      "source": [
        "score = f1_score(true_targets, predicted_targets, average='binary')\n",
        "print(f'F-Measure: {score:.3f}')"
      ],
      "execution_count": 109,
      "outputs": [
        {
          "output_type": "stream",
          "text": [
            "F-Measure: 0.251\n"
          ],
          "name": "stdout"
        }
      ]
    }
  ]
}